{
 "cells": [
  {
   "cell_type": "markdown",
   "id": "4d20b408",
   "metadata": {},
   "source": [
    "## Класс человека\n",
    "Моделирование человека — классическое упражнение для людей, которые пытаются научиться писать классы. Мы все знакомы с характеристиками и поведением людей, поэтому стоит попробовать это упражнение.\n",
    "* Определите класс Person().\n",
    "* В функции __init()__ определите несколько атрибутов человека. Хорошими атрибутами, которые следует учитывать, являются имя, возраст, место рождения и все, что вам нужно знать о людях в вашей жизни. Не менее 3 атрибутов.\n",
    "* Напишите один метод. Это может быть просто introduce_yourself(). Этот метод выводит такое утверждение, как «Здравствуйте, меня зовут Эрик».\n",
    "* Вы также можете создать такой метод, как age_person(). Простая версия этого метода просто добавит 1 к возрасту человека.\n",
    "* Создайте человека, установите соответствующие значения атрибутов и выведите информацию о человеке.\n",
    "* Вызовите свой метод для человека, которого вы создали. Убедитесь, что ваш метод выполняется правильно; если метод ничего не выводит напрямую, напечатайте что-нибудь до и после вызова метода, чтобы убедиться, что он сделал то, что предполагалось."
   ]
  },
  {
   "cell_type": "code",
   "execution_count": 39,
   "id": "37445c4f",
   "metadata": {},
   "outputs": [],
   "source": [
    "class Person():\n",
    "    \n",
    "    def __init__(self, name, age, country, place, prof):\n",
    "        self.name = name\n",
    "        self.age = age\n",
    "        self.country = country\n",
    "        self.place = place\n",
    "        self.prof = prof\n",
    "\n",
    "    def introduce_yourself(self):\n",
    "        print(\"Hello! My name is\", self.name)\n",
    "        \n",
    "    def person_information(self):\n",
    "        print('Name:', self.name,'\\n'\n",
    "             'Age:', self.age,'\\n'\n",
    "             'Country:', self.country,'\\n'\n",
    "             'Place of birth:', self.place,'\\n'\n",
    "             'Profession:', self.prof)\n",
    "        \n",
    "    def age_person(self):\n",
    "        self.age +=1"
   ]
  },
  {
   "cell_type": "code",
   "execution_count": 41,
   "id": "71b6849d",
   "metadata": {},
   "outputs": [
    {
     "name": "stdout",
     "output_type": "stream",
     "text": [
      "Name: Anna \n",
      "Age: 26 \n",
      "Country: Russia \n",
      "Place of birth: Spb \n",
      "Profession: Dentist\n",
      "Hello! My name is Anna\n"
     ]
    }
   ],
   "source": [
    "my_person = Person('Anna', 24, 'Russia', 'Spb', 'Dentist')\n",
    "my_person.age_person()\n",
    "my_person.age_person()\n",
    "my_person.person_information()\n",
    "my_person.introduce_yourself()"
   ]
  },
  {
   "cell_type": "markdown",
   "id": "b0feab5a",
   "metadata": {},
   "source": [
    "## Студенческий класс\n",
    "\n",
    "* Начните с вашей программы из класса Person.\n",
    "* Создайте новый класс под названием Student, который наследуется от Person.\n",
    "* Определите некоторые качества, которые есть у учащегося, которых нет у других людей.\n",
    "    У учащегося есть школа, с которой он связан, год выпуска, средний балл и другие особые атрибуты.\n",
    "* Создайте объект Student и докажите, что вы правильно использовали наследование.\n",
    "* Установите некоторые значения атрибутов для учащегося, которые закодированы только в классе Person.\n",
    "* Установите некоторые значения атрибутов для учащегося, которые закодированы только в классе учащегося.\n",
    "* Выведите значения для всех этих атрибутов."
   ]
  },
  {
   "cell_type": "code",
   "execution_count": 83,
   "id": "543fece6",
   "metadata": {},
   "outputs": [],
   "source": [
    "from random import randint\n",
    "\n",
    "\n",
    "class Student(Person):\n",
    "    \n",
    "    def __init__ (self, name, age, country, place, prof, graduat):\n",
    "        super().__init__(name, age, country, place, prof)\n",
    "        self.graduat = graduat # Год выпуска из школы\n",
    "        self.a = randint(0,5) # Кол-во 5\n",
    "        self.b = randint(0,5) # Кол-во 4\n",
    "        self.c = randint(0,5) # Кол-во 3\n",
    "        self.d = randint(0,5) # Кол-во 2\n",
    "        self.average = ((5*self.a)+(4*self.b)+(3*self.c)+(2*self.d))/(self.a+self.b+self.c+self.d)\n",
    "        \n",
    "    def average_grade(self):\n",
    "        if self.average >=3:\n",
    "            print(\"Student\", self.name, \"has average grade=%.2f\" %self.average)\n",
    "        else:\n",
    "            print(\"The student\", self.name, \"was expelled\")"
   ]
  },
  {
   "cell_type": "code",
   "execution_count": 85,
   "id": "11bfc4d7",
   "metadata": {},
   "outputs": [
    {
     "name": "stdout",
     "output_type": "stream",
     "text": [
      "The student Sergey was expelled\n",
      "Hello! My name is Sergey\n",
      "Name: Sergey \n",
      "Age: 20 \n",
      "Country: Russia \n",
      "Place of birth: Moskow \n",
      "Profession: Student\n"
     ]
    }
   ],
   "source": [
    "s1 = Student(\"Sergey\", 19, \"Russia\", \"Moskow\", \"Student\", 2011)\n",
    "s1.average_grade()\n",
    "s1.age_person()\n",
    "s1.introduce_yourself()\n",
    "s1.person_information()"
   ]
  },
  {
   "cell_type": "code",
   "execution_count": null,
   "id": "8fa5775f",
   "metadata": {},
   "outputs": [],
   "source": []
  }
 ],
 "metadata": {
  "kernelspec": {
   "display_name": "Python 3 (ipykernel)",
   "language": "python",
   "name": "python3"
  },
  "language_info": {
   "codemirror_mode": {
    "name": "ipython",
    "version": 3
   },
   "file_extension": ".py",
   "mimetype": "text/x-python",
   "name": "python",
   "nbconvert_exporter": "python",
   "pygments_lexer": "ipython3",
   "version": "3.10.9"
  }
 },
 "nbformat": 4,
 "nbformat_minor": 5
}
