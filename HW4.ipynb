{
 "cells": [
  {
   "cell_type": "markdown",
   "metadata": {},
   "source": [
    "##### Задания не несут смысловой нагрузки для реальной жизни, они сделаны лишь для того, чтоб научить использовать Pandas"
   ]
  },
  {
   "cell_type": "markdown",
   "metadata": {},
   "source": [
    "This database contains 76 attributes, but all published experiments refer to using a subset of 14 of them. In particular, the Cleveland database is the only one that has been used by ML researchers to this date. The \"goal\" field refers to the presence of heart disease in the patient. It is integer valued from 0 (no presence) to 1."
   ]
  },
  {
   "cell_type": "markdown",
   "metadata": {},
   "source": [
    "https://www.kaggle.com/ronitf/heart-disease-uci"
   ]
  },
  {
   "cell_type": "markdown",
   "metadata": {},
   "source": [
    "___"
   ]
  },
  {
   "cell_type": "markdown",
   "metadata": {},
   "source": [
    "##  Привет Антон)\n",
    "#### Мне ведь не кажется, что слишком уж \"грязно\" написано?!\n",
    "#### Если не сложно, когда проверишь, напиши пожалуйста, что думаешь, спасибо за внимание )"
   ]
  },
  {
   "cell_type": "code",
   "execution_count": 1,
   "metadata": {},
   "outputs": [],
   "source": [
    "import pandas as pd\n",
    "import numpy as np"
   ]
  },
  {
   "cell_type": "code",
   "execution_count": 2,
   "metadata": {},
   "outputs": [
    {
     "data": {
      "text/html": [
       "<div>\n",
       "<style scoped>\n",
       "    .dataframe tbody tr th:only-of-type {\n",
       "        vertical-align: middle;\n",
       "    }\n",
       "\n",
       "    .dataframe tbody tr th {\n",
       "        vertical-align: top;\n",
       "    }\n",
       "\n",
       "    .dataframe thead th {\n",
       "        text-align: right;\n",
       "    }\n",
       "</style>\n",
       "<table border=\"1\" class=\"dataframe\">\n",
       "  <thead>\n",
       "    <tr style=\"text-align: right;\">\n",
       "      <th></th>\n",
       "      <th>age</th>\n",
       "      <th>sex</th>\n",
       "      <th>chest_pain_type</th>\n",
       "      <th>resting_blood_pressure</th>\n",
       "      <th>cholesterol</th>\n",
       "      <th>fasting_blood_sugar</th>\n",
       "      <th>rest_ecg</th>\n",
       "      <th>max_heart_rate_achieved</th>\n",
       "      <th>exercise_induced_angina</th>\n",
       "      <th>st_depression</th>\n",
       "      <th>st_slope</th>\n",
       "      <th>num_major_vessels</th>\n",
       "      <th>thalassemia</th>\n",
       "      <th>target</th>\n",
       "    </tr>\n",
       "  </thead>\n",
       "  <tbody>\n",
       "    <tr>\n",
       "      <th>0</th>\n",
       "      <td>63</td>\n",
       "      <td>male</td>\n",
       "      <td>non-anginal pain</td>\n",
       "      <td>145</td>\n",
       "      <td>233</td>\n",
       "      <td>greater than 120mg/ml</td>\n",
       "      <td>normal</td>\n",
       "      <td>150</td>\n",
       "      <td>no</td>\n",
       "      <td>2.3</td>\n",
       "      <td>upsloping</td>\n",
       "      <td>0</td>\n",
       "      <td>normal</td>\n",
       "      <td>1</td>\n",
       "    </tr>\n",
       "    <tr>\n",
       "      <th>1</th>\n",
       "      <td>37</td>\n",
       "      <td>male</td>\n",
       "      <td>atypical angina</td>\n",
       "      <td>130</td>\n",
       "      <td>250</td>\n",
       "      <td>lower than 120mg/ml</td>\n",
       "      <td>ST-T wave abnormality</td>\n",
       "      <td>187</td>\n",
       "      <td>no</td>\n",
       "      <td>3.5</td>\n",
       "      <td>upsloping</td>\n",
       "      <td>0</td>\n",
       "      <td>fixed defect</td>\n",
       "      <td>1</td>\n",
       "    </tr>\n",
       "    <tr>\n",
       "      <th>2</th>\n",
       "      <td>41</td>\n",
       "      <td>female</td>\n",
       "      <td>typical angina</td>\n",
       "      <td>130</td>\n",
       "      <td>204</td>\n",
       "      <td>lower than 120mg/ml</td>\n",
       "      <td>normal</td>\n",
       "      <td>172</td>\n",
       "      <td>no</td>\n",
       "      <td>1.4</td>\n",
       "      <td>flat</td>\n",
       "      <td>0</td>\n",
       "      <td>fixed defect</td>\n",
       "      <td>1</td>\n",
       "    </tr>\n",
       "    <tr>\n",
       "      <th>3</th>\n",
       "      <td>56</td>\n",
       "      <td>male</td>\n",
       "      <td>typical angina</td>\n",
       "      <td>120</td>\n",
       "      <td>236</td>\n",
       "      <td>lower than 120mg/ml</td>\n",
       "      <td>ST-T wave abnormality</td>\n",
       "      <td>178</td>\n",
       "      <td>no</td>\n",
       "      <td>0.8</td>\n",
       "      <td>flat</td>\n",
       "      <td>0</td>\n",
       "      <td>fixed defect</td>\n",
       "      <td>1</td>\n",
       "    </tr>\n",
       "    <tr>\n",
       "      <th>4</th>\n",
       "      <td>57</td>\n",
       "      <td>female</td>\n",
       "      <td>typical angina</td>\n",
       "      <td>120</td>\n",
       "      <td>354</td>\n",
       "      <td>lower than 120mg/ml</td>\n",
       "      <td>ST-T wave abnormality</td>\n",
       "      <td>163</td>\n",
       "      <td>yes</td>\n",
       "      <td>0.6</td>\n",
       "      <td>flat</td>\n",
       "      <td>0</td>\n",
       "      <td>fixed defect</td>\n",
       "      <td>1</td>\n",
       "    </tr>\n",
       "    <tr>\n",
       "      <th>...</th>\n",
       "      <td>...</td>\n",
       "      <td>...</td>\n",
       "      <td>...</td>\n",
       "      <td>...</td>\n",
       "      <td>...</td>\n",
       "      <td>...</td>\n",
       "      <td>...</td>\n",
       "      <td>...</td>\n",
       "      <td>...</td>\n",
       "      <td>...</td>\n",
       "      <td>...</td>\n",
       "      <td>...</td>\n",
       "      <td>...</td>\n",
       "      <td>...</td>\n",
       "    </tr>\n",
       "    <tr>\n",
       "      <th>298</th>\n",
       "      <td>57</td>\n",
       "      <td>female</td>\n",
       "      <td>typical angina</td>\n",
       "      <td>140</td>\n",
       "      <td>241</td>\n",
       "      <td>lower than 120mg/ml</td>\n",
       "      <td>ST-T wave abnormality</td>\n",
       "      <td>123</td>\n",
       "      <td>yes</td>\n",
       "      <td>0.2</td>\n",
       "      <td>upsloping</td>\n",
       "      <td>0</td>\n",
       "      <td>reversable defect</td>\n",
       "      <td>0</td>\n",
       "    </tr>\n",
       "    <tr>\n",
       "      <th>299</th>\n",
       "      <td>45</td>\n",
       "      <td>male</td>\n",
       "      <td>non-anginal pain</td>\n",
       "      <td>110</td>\n",
       "      <td>264</td>\n",
       "      <td>lower than 120mg/ml</td>\n",
       "      <td>ST-T wave abnormality</td>\n",
       "      <td>132</td>\n",
       "      <td>no</td>\n",
       "      <td>1.2</td>\n",
       "      <td>upsloping</td>\n",
       "      <td>0</td>\n",
       "      <td>reversable defect</td>\n",
       "      <td>0</td>\n",
       "    </tr>\n",
       "    <tr>\n",
       "      <th>300</th>\n",
       "      <td>68</td>\n",
       "      <td>male</td>\n",
       "      <td>typical angina</td>\n",
       "      <td>144</td>\n",
       "      <td>193</td>\n",
       "      <td>greater than 120mg/ml</td>\n",
       "      <td>ST-T wave abnormality</td>\n",
       "      <td>141</td>\n",
       "      <td>no</td>\n",
       "      <td>3.4</td>\n",
       "      <td>upsloping</td>\n",
       "      <td>2</td>\n",
       "      <td>reversable defect</td>\n",
       "      <td>0</td>\n",
       "    </tr>\n",
       "    <tr>\n",
       "      <th>301</th>\n",
       "      <td>57</td>\n",
       "      <td>male</td>\n",
       "      <td>typical angina</td>\n",
       "      <td>130</td>\n",
       "      <td>131</td>\n",
       "      <td>lower than 120mg/ml</td>\n",
       "      <td>ST-T wave abnormality</td>\n",
       "      <td>115</td>\n",
       "      <td>yes</td>\n",
       "      <td>1.2</td>\n",
       "      <td>upsloping</td>\n",
       "      <td>1</td>\n",
       "      <td>reversable defect</td>\n",
       "      <td>0</td>\n",
       "    </tr>\n",
       "    <tr>\n",
       "      <th>302</th>\n",
       "      <td>57</td>\n",
       "      <td>female</td>\n",
       "      <td>typical angina</td>\n",
       "      <td>130</td>\n",
       "      <td>236</td>\n",
       "      <td>lower than 120mg/ml</td>\n",
       "      <td>normal</td>\n",
       "      <td>174</td>\n",
       "      <td>no</td>\n",
       "      <td>0.0</td>\n",
       "      <td>upsloping</td>\n",
       "      <td>1</td>\n",
       "      <td>fixed defect</td>\n",
       "      <td>0</td>\n",
       "    </tr>\n",
       "  </tbody>\n",
       "</table>\n",
       "<p>303 rows × 14 columns</p>\n",
       "</div>"
      ],
      "text/plain": [
       "     age     sex   chest_pain_type  resting_blood_pressure  cholesterol  \\\n",
       "0     63    male  non-anginal pain                     145          233   \n",
       "1     37    male   atypical angina                     130          250   \n",
       "2     41  female    typical angina                     130          204   \n",
       "3     56    male    typical angina                     120          236   \n",
       "4     57  female    typical angina                     120          354   \n",
       "..   ...     ...               ...                     ...          ...   \n",
       "298   57  female    typical angina                     140          241   \n",
       "299   45    male  non-anginal pain                     110          264   \n",
       "300   68    male    typical angina                     144          193   \n",
       "301   57    male    typical angina                     130          131   \n",
       "302   57  female    typical angina                     130          236   \n",
       "\n",
       "       fasting_blood_sugar               rest_ecg  max_heart_rate_achieved  \\\n",
       "0    greater than 120mg/ml                 normal                      150   \n",
       "1      lower than 120mg/ml  ST-T wave abnormality                      187   \n",
       "2      lower than 120mg/ml                 normal                      172   \n",
       "3      lower than 120mg/ml  ST-T wave abnormality                      178   \n",
       "4      lower than 120mg/ml  ST-T wave abnormality                      163   \n",
       "..                     ...                    ...                      ...   \n",
       "298    lower than 120mg/ml  ST-T wave abnormality                      123   \n",
       "299    lower than 120mg/ml  ST-T wave abnormality                      132   \n",
       "300  greater than 120mg/ml  ST-T wave abnormality                      141   \n",
       "301    lower than 120mg/ml  ST-T wave abnormality                      115   \n",
       "302    lower than 120mg/ml                 normal                      174   \n",
       "\n",
       "    exercise_induced_angina  st_depression   st_slope  num_major_vessels  \\\n",
       "0                        no            2.3  upsloping                  0   \n",
       "1                        no            3.5  upsloping                  0   \n",
       "2                        no            1.4       flat                  0   \n",
       "3                        no            0.8       flat                  0   \n",
       "4                       yes            0.6       flat                  0   \n",
       "..                      ...            ...        ...                ...   \n",
       "298                     yes            0.2  upsloping                  0   \n",
       "299                      no            1.2  upsloping                  0   \n",
       "300                      no            3.4  upsloping                  2   \n",
       "301                     yes            1.2  upsloping                  1   \n",
       "302                      no            0.0  upsloping                  1   \n",
       "\n",
       "           thalassemia  target  \n",
       "0               normal       1  \n",
       "1         fixed defect       1  \n",
       "2         fixed defect       1  \n",
       "3         fixed defect       1  \n",
       "4         fixed defect       1  \n",
       "..                 ...     ...  \n",
       "298  reversable defect       0  \n",
       "299  reversable defect       0  \n",
       "300  reversable defect       0  \n",
       "301  reversable defect       0  \n",
       "302       fixed defect       0  \n",
       "\n",
       "[303 rows x 14 columns]"
      ]
     },
     "execution_count": 2,
     "metadata": {},
     "output_type": "execute_result"
    }
   ],
   "source": [
    "data = pd.read_csv('heart_pandas.csv')\n",
    "data"
   ]
  },
  {
   "cell_type": "markdown",
   "metadata": {},
   "source": [
    "#### Описание признаков"
   ]
  },
  {
   "cell_type": "markdown",
   "metadata": {},
   "source": [
    "**age**: The person's age in years\n",
    "\n",
    "**sex**: The person's sex (1 = male, 0 = female)\n",
    "\n",
    "**cp**: The chest pain experienced (Value 1: typical angina, Value 2: atypical angina, Value 3: non-anginal pain, Value 4: asymptomatic)\n",
    "\n",
    "**trestbps**: The person's resting blood pressure (mm Hg on admission to the hospital)\n",
    "\n",
    "**chol**: The person's cholesterol measurement in mg/dl\n",
    "\n",
    "**fbs**: The person's fasting blood sugar (> 120 mg/dl, 1 = true; 0 = false)\n",
    "\n",
    "**restecg**: Resting electrocardiographic measurement (0 = normal, 1 = having ST-T wave abnormality, 2 = showing probable or definite left ventricular hypertrophy by Estes' criteria)\n",
    "\n",
    "**thalach**: The person's maximum heart rate achieved\n",
    "\n",
    "**exang**: Exercise induced angina (1 = yes; 0 = no)\n",
    "\n",
    "**oldpeak**: ST depression induced by exercise relative to rest ('ST' relates to positions on the ECG plot. See more here)\n",
    "\n",
    "**slope**: the slope of the peak exercise ST segment (Value 1: upsloping, Value 2: flat, Value 3: downsloping)\n",
    "\n",
    "**ca**: The number of major vessels (0-3)\n",
    "\n",
    "**thal**: A blood disorder called thalassemia (3 = normal; 6 = fixed defect; 7 = reversable defect)\n",
    "\n",
    "**target**: Heart disease (0 = no, 1 = yes)"
   ]
  },
  {
   "cell_type": "markdown",
   "metadata": {},
   "source": [
    "> 1. age \n",
    "> 2. sex \n",
    "> 3. chest pain type (4 values) \n",
    "> 4. resting blood pressure \n",
    "> 5. serum cholestoral in mg/dl \n",
    "> 6. fasting blood sugar > 120 mg/dl\n",
    "> 7. resting electrocardiographic results (values 0,1,2)\n",
    "> 8. maximum heart rate achieved \n",
    "> 9. exercise induced angina \n",
    "> 10. oldpeak = ST depression induced by exercise relative to rest \n",
    "> 11. the slope of the peak exercise ST segment \n",
    "> 12. number of major vessels (0-3) colored by flourosopy \n",
    "> 13. thal: 3 = normal; 6 = fixed defect; 7 = reversable defect"
   ]
  },
  {
   "cell_type": "markdown",
   "metadata": {},
   "source": [
    "___"
   ]
  },
  {
   "cell_type": "markdown",
   "metadata": {},
   "source": [
    "#### Сколько мужчин в датасете? Сколько женщен? (sex)"
   ]
  },
  {
   "cell_type": "code",
   "execution_count": 16,
   "metadata": {},
   "outputs": [
    {
     "data": {
      "text/plain": [
       "male      207\n",
       "female     96\n",
       "Name: sex, dtype: int64"
      ]
     },
     "execution_count": 16,
     "metadata": {},
     "output_type": "execute_result"
    }
   ],
   "source": [
    "data.sex.value_counts() #data[data.sex=='male'].sex.value_counts()"
   ]
  },
  {
   "cell_type": "markdown",
   "metadata": {},
   "source": [
    "#### Какой процент мужчин в датасете? (решите в одну строчку, не используя предыдущий результат. Не забудте знак процента) "
   ]
  },
  {
   "cell_type": "code",
   "execution_count": 31,
   "metadata": {},
   "outputs": [
    {
     "data": {
      "text/plain": [
       "68.31683168316832"
      ]
     },
     "execution_count": 31,
     "metadata": {},
     "output_type": "execute_result"
    }
   ],
   "source": [
    "data.sex.value_counts(normalize=True).male*100"
   ]
  },
  {
   "cell_type": "markdown",
   "metadata": {},
   "source": [
    "#### Сколько мужчин имеют заболевание сердца? Сколько женщин имеют заболевание сердца?"
   ]
  },
  {
   "cell_type": "code",
   "execution_count": 13,
   "metadata": {},
   "outputs": [
    {
     "data": {
      "text/html": [
       "<div>\n",
       "<style scoped>\n",
       "    .dataframe tbody tr th:only-of-type {\n",
       "        vertical-align: middle;\n",
       "    }\n",
       "\n",
       "    .dataframe tbody tr th {\n",
       "        vertical-align: top;\n",
       "    }\n",
       "\n",
       "    .dataframe thead th {\n",
       "        text-align: right;\n",
       "    }\n",
       "</style>\n",
       "<table border=\"1\" class=\"dataframe\">\n",
       "  <thead>\n",
       "    <tr style=\"text-align: right;\">\n",
       "      <th>sex</th>\n",
       "      <th>female</th>\n",
       "      <th>male</th>\n",
       "    </tr>\n",
       "    <tr>\n",
       "      <th>target</th>\n",
       "      <th></th>\n",
       "      <th></th>\n",
       "    </tr>\n",
       "  </thead>\n",
       "  <tbody>\n",
       "    <tr>\n",
       "      <th>0</th>\n",
       "      <td>24</td>\n",
       "      <td>114</td>\n",
       "    </tr>\n",
       "    <tr>\n",
       "      <th>1</th>\n",
       "      <td>72</td>\n",
       "      <td>93</td>\n",
       "    </tr>\n",
       "  </tbody>\n",
       "</table>\n",
       "</div>"
      ],
      "text/plain": [
       "sex     female  male\n",
       "target              \n",
       "0           24   114\n",
       "1           72    93"
      ]
     },
     "execution_count": 13,
     "metadata": {},
     "output_type": "execute_result"
    }
   ],
   "source": [
    "pd.crosstab(data.target, data.sex)"
   ]
  },
  {
   "cell_type": "markdown",
   "metadata": {},
   "source": [
    "**Какую долю, от общего числа пациентов, занимают мужчины не имеющие болезнь сердца?**"
   ]
  },
  {
   "cell_type": "code",
   "execution_count": 7,
   "metadata": {},
   "outputs": [
    {
     "data": {
      "text/plain": [
       "37.62376237623762"
      ]
     },
     "execution_count": 7,
     "metadata": {},
     "output_type": "execute_result"
    }
   ],
   "source": [
    "data[data.sex =='male'].target[data.target ==0].count()/data.sex.count()*100"
   ]
  },
  {
   "cell_type": "markdown",
   "metadata": {},
   "source": [
    "**Сколько лет самому молодому пациенту, страдающему болезнью сердца?**"
   ]
  },
  {
   "cell_type": "code",
   "execution_count": 53,
   "metadata": {},
   "outputs": [
    {
     "data": {
      "text/plain": [
       "29"
      ]
     },
     "execution_count": 53,
     "metadata": {},
     "output_type": "execute_result"
    }
   ],
   "source": [
    "data[data.target == 1].age.min()"
   ]
  },
  {
   "cell_type": "markdown",
   "metadata": {},
   "source": [
    "**Сколько лет самому возастному пациенту, у которого нет проблем с сердцем?**"
   ]
  },
  {
   "cell_type": "code",
   "execution_count": 54,
   "metadata": {},
   "outputs": [
    {
     "data": {
      "text/plain": [
       "77"
      ]
     },
     "execution_count": 54,
     "metadata": {},
     "output_type": "execute_result"
    }
   ],
   "source": [
    "data[data.target == 0].age.max()"
   ]
  },
  {
   "cell_type": "markdown",
   "metadata": {},
   "source": [
    "**Сколько лет самой молодой женщине, которая страдает болезнью сердца?**"
   ]
  },
  {
   "cell_type": "code",
   "execution_count": 99,
   "metadata": {},
   "outputs": [
    {
     "data": {
      "text/plain": [
       "target\n",
       "0    43\n",
       "1    34\n",
       "Name: age, dtype: int64"
      ]
     },
     "execution_count": 99,
     "metadata": {},
     "output_type": "execute_result"
    }
   ],
   "source": [
    "maf = data.groupby(['sex', 'target'])['age'].min()\n",
    "maf['female',]"
   ]
  },
  {
   "cell_type": "markdown",
   "metadata": {},
   "source": [
    "**Какой средний возраст женщин?**"
   ]
  },
  {
   "cell_type": "code",
   "execution_count": 62,
   "metadata": {},
   "outputs": [
    {
     "data": {
      "text/plain": [
       "55.677083333333336"
      ]
     },
     "execution_count": 62,
     "metadata": {},
     "output_type": "execute_result"
    }
   ],
   "source": [
    "data[data.sex =='female'].age.mean()"
   ]
  },
  {
   "cell_type": "markdown",
   "metadata": {},
   "source": [
    "**Каковы средние значения и среднеквадратичные отклонения возраста тех, кто страдают болезнью сердца?**"
   ]
  },
  {
   "cell_type": "code",
   "execution_count": 33,
   "metadata": {},
   "outputs": [
    {
     "data": {
      "text/plain": [
       "(52.4969696969697, 9.550650751946778)"
      ]
     },
     "execution_count": 33,
     "metadata": {},
     "output_type": "execute_result"
    }
   ],
   "source": [
    "data[data.target == 1].age.mean(), data[data.target == 1].age.std()"
   ]
  },
  {
   "cell_type": "markdown",
   "metadata": {},
   "source": [
    "#### Правда ли, что люди не болеющие болезнью сердца имеют уровня холестерина меньше среднего? (chol) "
   ]
  },
  {
   "cell_type": "code",
   "execution_count": 27,
   "metadata": {},
   "outputs": [
    {
     "name": "stdout",
     "output_type": "stream",
     "text": [
      "No\n"
     ]
    }
   ],
   "source": [
    "if data.cholesterol.mean()> data[data.target == 0].cholesterol.mean():\n",
    "    print('Yes')\n",
    "else:\n",
    "    print(\"No\")"
   ]
  },
  {
   "cell_type": "markdown",
   "metadata": {},
   "source": [
    "**Выведите статистику rest_ecg для все числовых признаков, его максимально и среднее значение (используйте groupby(), решите в одну строчку)**"
   ]
  },
  {
   "cell_type": "code",
   "execution_count": 28,
   "metadata": {
    "scrolled": true
   },
   "outputs": [
    {
     "data": {
      "text/html": [
       "<div>\n",
       "<style scoped>\n",
       "    .dataframe tbody tr th:only-of-type {\n",
       "        vertical-align: middle;\n",
       "    }\n",
       "\n",
       "    .dataframe tbody tr th {\n",
       "        vertical-align: top;\n",
       "    }\n",
       "\n",
       "    .dataframe thead th {\n",
       "        text-align: right;\n",
       "    }\n",
       "</style>\n",
       "<table border=\"1\" class=\"dataframe\">\n",
       "  <thead>\n",
       "    <tr style=\"text-align: right;\">\n",
       "      <th></th>\n",
       "      <th>age_mean</th>\n",
       "      <th>resting_blood_pressure_mean</th>\n",
       "      <th>cholesterol_mean</th>\n",
       "      <th>max_heart_rate_achieved_mean</th>\n",
       "      <th>num_major_vessels_mean</th>\n",
       "      <th>age_max</th>\n",
       "      <th>resting_blood_pressure_max</th>\n",
       "      <th>cholesterol_max</th>\n",
       "      <th>max_heart_rate_achieved_max</th>\n",
       "      <th>num_major_vessels_max</th>\n",
       "    </tr>\n",
       "    <tr>\n",
       "      <th>rest_ecg</th>\n",
       "      <th></th>\n",
       "      <th></th>\n",
       "      <th></th>\n",
       "      <th></th>\n",
       "      <th></th>\n",
       "      <th></th>\n",
       "      <th></th>\n",
       "      <th></th>\n",
       "      <th></th>\n",
       "      <th></th>\n",
       "    </tr>\n",
       "  </thead>\n",
       "  <tbody>\n",
       "    <tr>\n",
       "      <th>ST-T wave abnormality</th>\n",
       "      <td>52.914474</td>\n",
       "      <td>129.065789</td>\n",
       "      <td>237.269737</td>\n",
       "      <td>151.960526</td>\n",
       "      <td>0.638158</td>\n",
       "      <td>71</td>\n",
       "      <td>180</td>\n",
       "      <td>354</td>\n",
       "      <td>194</td>\n",
       "      <td>4</td>\n",
       "    </tr>\n",
       "    <tr>\n",
       "      <th>left ventricular hypertrophy</th>\n",
       "      <td>61.000000</td>\n",
       "      <td>140.500000</td>\n",
       "      <td>261.750000</td>\n",
       "      <td>125.750000</td>\n",
       "      <td>1.000000</td>\n",
       "      <td>76</td>\n",
       "      <td>180</td>\n",
       "      <td>327</td>\n",
       "      <td>140</td>\n",
       "      <td>3</td>\n",
       "    </tr>\n",
       "    <tr>\n",
       "      <th>normal</th>\n",
       "      <td>55.687075</td>\n",
       "      <td>134.027211</td>\n",
       "      <td>255.142857</td>\n",
       "      <td>147.904762</td>\n",
       "      <td>0.816327</td>\n",
       "      <td>77</td>\n",
       "      <td>200</td>\n",
       "      <td>564</td>\n",
       "      <td>202</td>\n",
       "      <td>4</td>\n",
       "    </tr>\n",
       "  </tbody>\n",
       "</table>\n",
       "</div>"
      ],
      "text/plain": [
       "                               age_mean  resting_blood_pressure_mean  \\\n",
       "rest_ecg                                                               \n",
       "ST-T wave abnormality         52.914474                   129.065789   \n",
       "left ventricular hypertrophy  61.000000                   140.500000   \n",
       "normal                        55.687075                   134.027211   \n",
       "\n",
       "                              cholesterol_mean  max_heart_rate_achieved_mean  \\\n",
       "rest_ecg                                                                       \n",
       "ST-T wave abnormality               237.269737                    151.960526   \n",
       "left ventricular hypertrophy        261.750000                    125.750000   \n",
       "normal                              255.142857                    147.904762   \n",
       "\n",
       "                              num_major_vessels_mean  age_max  \\\n",
       "rest_ecg                                                        \n",
       "ST-T wave abnormality                       0.638158       71   \n",
       "left ventricular hypertrophy                1.000000       76   \n",
       "normal                                      0.816327       77   \n",
       "\n",
       "                              resting_blood_pressure_max  cholesterol_max  \\\n",
       "rest_ecg                                                                    \n",
       "ST-T wave abnormality                                180              354   \n",
       "left ventricular hypertrophy                         180              327   \n",
       "normal                                               200              564   \n",
       "\n",
       "                              max_heart_rate_achieved_max  \\\n",
       "rest_ecg                                                    \n",
       "ST-T wave abnormality                                 194   \n",
       "left ventricular hypertrophy                          140   \n",
       "normal                                                202   \n",
       "\n",
       "                              num_major_vessels_max  \n",
       "rest_ecg                                             \n",
       "ST-T wave abnormality                             4  \n",
       "left ventricular hypertrophy                      3  \n",
       "normal                                            4  "
      ]
     },
     "execution_count": 28,
     "metadata": {},
     "output_type": "execute_result"
    }
   ],
   "source": [
    "df1 = data.groupby('rest_ecg')[['age','resting_blood_pressure',\n",
    "                          'cholesterol', 'max_heart_rate_achieved', 'num_major_vessels']].mean()\n",
    "df2 = data.groupby('rest_ecg')[['age','resting_blood_pressure',\n",
    "                          'cholesterol', 'max_heart_rate_achieved', 'num_major_vessels']].max()\n",
    "\n",
    "data1 = pd.merge(df1, df2, left_on = 'rest_ecg', right_on='rest_ecg', suffixes=['_mean', '_max'])\n",
    "data1"
   ]
  },
  {
   "cell_type": "code",
   "execution_count": 123,
   "metadata": {},
   "outputs": [
    {
     "data": {
      "text/html": [
       "<div>\n",
       "<style scoped>\n",
       "    .dataframe tbody tr th:only-of-type {\n",
       "        vertical-align: middle;\n",
       "    }\n",
       "\n",
       "    .dataframe tbody tr th {\n",
       "        vertical-align: top;\n",
       "    }\n",
       "\n",
       "    .dataframe thead tr th {\n",
       "        text-align: left;\n",
       "    }\n",
       "\n",
       "    .dataframe thead tr:last-of-type th {\n",
       "        text-align: right;\n",
       "    }\n",
       "</style>\n",
       "<table border=\"1\" class=\"dataframe\">\n",
       "  <thead>\n",
       "    <tr>\n",
       "      <th></th>\n",
       "      <th colspan=\"8\" halign=\"left\">age</th>\n",
       "      <th colspan=\"2\" halign=\"left\">resting_blood_pressure</th>\n",
       "      <th>...</th>\n",
       "      <th colspan=\"2\" halign=\"left\">num_major_vessels</th>\n",
       "      <th colspan=\"8\" halign=\"left\">target</th>\n",
       "    </tr>\n",
       "    <tr>\n",
       "      <th></th>\n",
       "      <th>count</th>\n",
       "      <th>mean</th>\n",
       "      <th>std</th>\n",
       "      <th>min</th>\n",
       "      <th>25%</th>\n",
       "      <th>50%</th>\n",
       "      <th>75%</th>\n",
       "      <th>max</th>\n",
       "      <th>count</th>\n",
       "      <th>mean</th>\n",
       "      <th>...</th>\n",
       "      <th>75%</th>\n",
       "      <th>max</th>\n",
       "      <th>count</th>\n",
       "      <th>mean</th>\n",
       "      <th>std</th>\n",
       "      <th>min</th>\n",
       "      <th>25%</th>\n",
       "      <th>50%</th>\n",
       "      <th>75%</th>\n",
       "      <th>max</th>\n",
       "    </tr>\n",
       "    <tr>\n",
       "      <th>rest_ecg</th>\n",
       "      <th></th>\n",
       "      <th></th>\n",
       "      <th></th>\n",
       "      <th></th>\n",
       "      <th></th>\n",
       "      <th></th>\n",
       "      <th></th>\n",
       "      <th></th>\n",
       "      <th></th>\n",
       "      <th></th>\n",
       "      <th></th>\n",
       "      <th></th>\n",
       "      <th></th>\n",
       "      <th></th>\n",
       "      <th></th>\n",
       "      <th></th>\n",
       "      <th></th>\n",
       "      <th></th>\n",
       "      <th></th>\n",
       "      <th></th>\n",
       "      <th></th>\n",
       "    </tr>\n",
       "  </thead>\n",
       "  <tbody>\n",
       "    <tr>\n",
       "      <th>ST-T wave abnormality</th>\n",
       "      <td>152.0</td>\n",
       "      <td>52.914474</td>\n",
       "      <td>9.229196</td>\n",
       "      <td>34.0</td>\n",
       "      <td>44.75</td>\n",
       "      <td>53.5</td>\n",
       "      <td>60.0</td>\n",
       "      <td>71.0</td>\n",
       "      <td>152.0</td>\n",
       "      <td>129.065789</td>\n",
       "      <td>...</td>\n",
       "      <td>1.0</td>\n",
       "      <td>4.0</td>\n",
       "      <td>152.0</td>\n",
       "      <td>0.631579</td>\n",
       "      <td>0.483971</td>\n",
       "      <td>0.0</td>\n",
       "      <td>0.0</td>\n",
       "      <td>1.0</td>\n",
       "      <td>1.00</td>\n",
       "      <td>1.0</td>\n",
       "    </tr>\n",
       "    <tr>\n",
       "      <th>left ventricular hypertrophy</th>\n",
       "      <td>4.0</td>\n",
       "      <td>61.000000</td>\n",
       "      <td>10.099505</td>\n",
       "      <td>55.0</td>\n",
       "      <td>55.00</td>\n",
       "      <td>56.5</td>\n",
       "      <td>62.5</td>\n",
       "      <td>76.0</td>\n",
       "      <td>4.0</td>\n",
       "      <td>140.500000</td>\n",
       "      <td>...</td>\n",
       "      <td>1.5</td>\n",
       "      <td>3.0</td>\n",
       "      <td>4.0</td>\n",
       "      <td>0.250000</td>\n",
       "      <td>0.500000</td>\n",
       "      <td>0.0</td>\n",
       "      <td>0.0</td>\n",
       "      <td>0.0</td>\n",
       "      <td>0.25</td>\n",
       "      <td>1.0</td>\n",
       "    </tr>\n",
       "    <tr>\n",
       "      <th>normal</th>\n",
       "      <td>147.0</td>\n",
       "      <td>55.687075</td>\n",
       "      <td>8.675902</td>\n",
       "      <td>29.0</td>\n",
       "      <td>50.50</td>\n",
       "      <td>57.0</td>\n",
       "      <td>62.0</td>\n",
       "      <td>77.0</td>\n",
       "      <td>147.0</td>\n",
       "      <td>134.027211</td>\n",
       "      <td>...</td>\n",
       "      <td>1.0</td>\n",
       "      <td>4.0</td>\n",
       "      <td>147.0</td>\n",
       "      <td>0.462585</td>\n",
       "      <td>0.500303</td>\n",
       "      <td>0.0</td>\n",
       "      <td>0.0</td>\n",
       "      <td>0.0</td>\n",
       "      <td>1.00</td>\n",
       "      <td>1.0</td>\n",
       "    </tr>\n",
       "  </tbody>\n",
       "</table>\n",
       "<p>3 rows × 56 columns</p>\n",
       "</div>"
      ],
      "text/plain": [
       "                                age                                           \\\n",
       "                              count       mean        std   min    25%   50%   \n",
       "rest_ecg                                                                       \n",
       "ST-T wave abnormality         152.0  52.914474   9.229196  34.0  44.75  53.5   \n",
       "left ventricular hypertrophy    4.0  61.000000  10.099505  55.0  55.00  56.5   \n",
       "normal                        147.0  55.687075   8.675902  29.0  50.50  57.0   \n",
       "\n",
       "                                         resting_blood_pressure              \\\n",
       "                               75%   max                  count        mean   \n",
       "rest_ecg                                                                      \n",
       "ST-T wave abnormality         60.0  71.0                  152.0  129.065789   \n",
       "left ventricular hypertrophy  62.5  76.0                    4.0  140.500000   \n",
       "normal                        62.0  77.0                  147.0  134.027211   \n",
       "\n",
       "                              ... num_major_vessels      target            \\\n",
       "                              ...               75%  max  count      mean   \n",
       "rest_ecg                      ...                                           \n",
       "ST-T wave abnormality         ...               1.0  4.0  152.0  0.631579   \n",
       "left ventricular hypertrophy  ...               1.5  3.0    4.0  0.250000   \n",
       "normal                        ...               1.0  4.0  147.0  0.462585   \n",
       "\n",
       "                                                                  \n",
       "                                   std  min  25%  50%   75%  max  \n",
       "rest_ecg                                                          \n",
       "ST-T wave abnormality         0.483971  0.0  0.0  1.0  1.00  1.0  \n",
       "left ventricular hypertrophy  0.500000  0.0  0.0  0.0  0.25  1.0  \n",
       "normal                        0.500303  0.0  0.0  0.0  1.00  1.0  \n",
       "\n",
       "[3 rows x 56 columns]"
      ]
     },
     "execution_count": 123,
     "metadata": {},
     "output_type": "execute_result"
    }
   ],
   "source": [
    "data.groupby('rest_ecg').describe() ###Я правильно понял?\n",
    "                                    ### Или имелось ввиду другое решение в одну строку ?"
   ]
  },
  {
   "cell_type": "markdown",
   "metadata": {},
   "source": [
    "**Посчитайте у кого уровень депрессии при физический нагрузке выше (в среднем), среди мужчин страдающих болезнью сердца или среди женщин не страдающих болезнью сердца (st_depression)**"
   ]
  },
  {
   "cell_type": "code",
   "execution_count": 45,
   "metadata": {},
   "outputs": [
    {
     "name": "stdout",
     "output_type": "stream",
     "text": [
      "female depression is high: 1.531578947368421\n"
     ]
    }
   ],
   "source": [
    "depression = data.groupby(['sex', 'target'])['st_depression'].mean()\n",
    "depression\n",
    "if depression[1]>depression[2]:\n",
    "    print('male depression is high:', depression[1])\n",
    "else:\n",
    "    print('female depression is high:', depression[2])"
   ]
  },
  {
   "cell_type": "markdown",
   "metadata": {},
   "source": [
    "**Посчтитайте максимальный и минимальный уровень холестерина для каждого типа chest_pain_type, rest_ecg, thalassemia. Пишите код оптимально, можно использовать циклы**"
   ]
  },
  {
   "cell_type": "code",
   "execution_count": 50,
   "metadata": {},
   "outputs": [
    {
     "data": {
      "text/html": [
       "<div>\n",
       "<style scoped>\n",
       "    .dataframe tbody tr th:only-of-type {\n",
       "        vertical-align: middle;\n",
       "    }\n",
       "\n",
       "    .dataframe tbody tr th {\n",
       "        vertical-align: top;\n",
       "    }\n",
       "\n",
       "    .dataframe thead th {\n",
       "        text-align: right;\n",
       "    }\n",
       "</style>\n",
       "<table border=\"1\" class=\"dataframe\">\n",
       "  <thead>\n",
       "    <tr style=\"text-align: right;\">\n",
       "      <th></th>\n",
       "      <th></th>\n",
       "      <th></th>\n",
       "      <th>cholesterol_min</th>\n",
       "      <th>cholesterol_max</th>\n",
       "    </tr>\n",
       "    <tr>\n",
       "      <th>chest_pain_type</th>\n",
       "      <th>rest_ecg</th>\n",
       "      <th>thalassemia</th>\n",
       "      <th></th>\n",
       "      <th></th>\n",
       "    </tr>\n",
       "  </thead>\n",
       "  <tbody>\n",
       "    <tr>\n",
       "      <th rowspan=\"7\" valign=\"top\">atypical angina</th>\n",
       "      <th rowspan=\"3\" valign=\"top\">ST-T wave abnormality</th>\n",
       "      <th>fixed defect</th>\n",
       "      <td>141</td>\n",
       "      <td>340</td>\n",
       "    </tr>\n",
       "    <tr>\n",
       "      <th>normal</th>\n",
       "      <td>218</td>\n",
       "      <td>218</td>\n",
       "    </tr>\n",
       "    <tr>\n",
       "      <th>reversable defect</th>\n",
       "      <td>126</td>\n",
       "      <td>313</td>\n",
       "    </tr>\n",
       "    <tr>\n",
       "      <th>left ventricular hypertrophy</th>\n",
       "      <th>fixed defect</th>\n",
       "      <td>197</td>\n",
       "      <td>197</td>\n",
       "    </tr>\n",
       "    <tr>\n",
       "      <th rowspan=\"3\" valign=\"top\">normal</th>\n",
       "      <th>fixed defect</th>\n",
       "      <td>149</td>\n",
       "      <td>417</td>\n",
       "    </tr>\n",
       "    <tr>\n",
       "      <th>normal</th>\n",
       "      <td>216</td>\n",
       "      <td>256</td>\n",
       "    </tr>\n",
       "    <tr>\n",
       "      <th>reversable defect</th>\n",
       "      <td>212</td>\n",
       "      <td>564</td>\n",
       "    </tr>\n",
       "    <tr>\n",
       "      <th rowspan=\"5\" valign=\"top\">non-anginal pain</th>\n",
       "      <th rowspan=\"2\" valign=\"top\">ST-T wave abnormality</th>\n",
       "      <th>fixed defect</th>\n",
       "      <td>204</td>\n",
       "      <td>240</td>\n",
       "    </tr>\n",
       "    <tr>\n",
       "      <th>reversable defect</th>\n",
       "      <td>199</td>\n",
       "      <td>298</td>\n",
       "    </tr>\n",
       "    <tr>\n",
       "      <th rowspan=\"3\" valign=\"top\">normal</th>\n",
       "      <th>fixed defect</th>\n",
       "      <td>182</td>\n",
       "      <td>283</td>\n",
       "    </tr>\n",
       "    <tr>\n",
       "      <th>normal</th>\n",
       "      <td>186</td>\n",
       "      <td>233</td>\n",
       "    </tr>\n",
       "    <tr>\n",
       "      <th>reversable defect</th>\n",
       "      <td>193</td>\n",
       "      <td>288</td>\n",
       "    </tr>\n",
       "    <tr>\n",
       "      <th rowspan=\"9\" valign=\"top\">typical angina</th>\n",
       "      <th rowspan=\"3\" valign=\"top\">ST-T wave abnormality</th>\n",
       "      <th>fixed defect</th>\n",
       "      <td>149</td>\n",
       "      <td>354</td>\n",
       "    </tr>\n",
       "    <tr>\n",
       "      <th>normal</th>\n",
       "      <td>169</td>\n",
       "      <td>315</td>\n",
       "    </tr>\n",
       "    <tr>\n",
       "      <th>reversable defect</th>\n",
       "      <td>131</td>\n",
       "      <td>353</td>\n",
       "    </tr>\n",
       "    <tr>\n",
       "      <th rowspan=\"3\" valign=\"top\">left ventricular hypertrophy</th>\n",
       "      <th>fixed defect</th>\n",
       "      <td>327</td>\n",
       "      <td>327</td>\n",
       "    </tr>\n",
       "    <tr>\n",
       "      <th>normal</th>\n",
       "      <td>318</td>\n",
       "      <td>318</td>\n",
       "    </tr>\n",
       "    <tr>\n",
       "      <th>reversable defect</th>\n",
       "      <td>205</td>\n",
       "      <td>205</td>\n",
       "    </tr>\n",
       "    <tr>\n",
       "      <th rowspan=\"3\" valign=\"top\">normal</th>\n",
       "      <th>fixed defect</th>\n",
       "      <td>166</td>\n",
       "      <td>394</td>\n",
       "    </tr>\n",
       "    <tr>\n",
       "      <th>normal</th>\n",
       "      <td>176</td>\n",
       "      <td>276</td>\n",
       "    </tr>\n",
       "    <tr>\n",
       "      <th>reversable defect</th>\n",
       "      <td>164</td>\n",
       "      <td>409</td>\n",
       "    </tr>\n",
       "  </tbody>\n",
       "</table>\n",
       "</div>"
      ],
      "text/plain": [
       "                                                                 cholesterol_min  \\\n",
       "chest_pain_type  rest_ecg                     thalassemia                          \n",
       "atypical angina  ST-T wave abnormality        fixed defect                   141   \n",
       "                                              normal                         218   \n",
       "                                              reversable defect              126   \n",
       "                 left ventricular hypertrophy fixed defect                   197   \n",
       "                 normal                       fixed defect                   149   \n",
       "                                              normal                         216   \n",
       "                                              reversable defect              212   \n",
       "non-anginal pain ST-T wave abnormality        fixed defect                   204   \n",
       "                                              reversable defect              199   \n",
       "                 normal                       fixed defect                   182   \n",
       "                                              normal                         186   \n",
       "                                              reversable defect              193   \n",
       "typical angina   ST-T wave abnormality        fixed defect                   149   \n",
       "                                              normal                         169   \n",
       "                                              reversable defect              131   \n",
       "                 left ventricular hypertrophy fixed defect                   327   \n",
       "                                              normal                         318   \n",
       "                                              reversable defect              205   \n",
       "                 normal                       fixed defect                   166   \n",
       "                                              normal                         176   \n",
       "                                              reversable defect              164   \n",
       "\n",
       "                                                                 cholesterol_max  \n",
       "chest_pain_type  rest_ecg                     thalassemia                         \n",
       "atypical angina  ST-T wave abnormality        fixed defect                   340  \n",
       "                                              normal                         218  \n",
       "                                              reversable defect              313  \n",
       "                 left ventricular hypertrophy fixed defect                   197  \n",
       "                 normal                       fixed defect                   417  \n",
       "                                              normal                         256  \n",
       "                                              reversable defect              564  \n",
       "non-anginal pain ST-T wave abnormality        fixed defect                   240  \n",
       "                                              reversable defect              298  \n",
       "                 normal                       fixed defect                   283  \n",
       "                                              normal                         233  \n",
       "                                              reversable defect              288  \n",
       "typical angina   ST-T wave abnormality        fixed defect                   354  \n",
       "                                              normal                         315  \n",
       "                                              reversable defect              353  \n",
       "                 left ventricular hypertrophy fixed defect                   327  \n",
       "                                              normal                         318  \n",
       "                                              reversable defect              205  \n",
       "                 normal                       fixed defect                   394  \n",
       "                                              normal                         276  \n",
       "                                              reversable defect              409  "
      ]
     },
     "execution_count": 50,
     "metadata": {},
     "output_type": "execute_result"
    }
   ],
   "source": [
    "gp1 =data.groupby(['chest_pain_type', 'rest_ecg', 'thalassemia'])[['cholesterol']].min()\n",
    "gp2 = data.groupby(['chest_pain_type', 'rest_ecg', 'thalassemia'])[['cholesterol']].max()\n",
    "pd.merge(gp1, gp2, left_on=['chest_pain_type', 'rest_ecg', 'thalassemia'],\n",
    "         right_on=['chest_pain_type', 'rest_ecg', 'thalassemia'], suffixes=['_min', '_max'],  how ='inner')"
   ]
  },
  {
   "cell_type": "markdown",
   "metadata": {},
   "source": [
    "**Сколько значений может принимать каждый из категориальных признаков?**"
   ]
  },
  {
   "cell_type": "code",
   "execution_count": 51,
   "metadata": {},
   "outputs": [
    {
     "data": {
      "text/plain": [
       "sex                        2\n",
       "chest_pain_type            3\n",
       "fasting_blood_sugar        2\n",
       "rest_ecg                   3\n",
       "exercise_induced_angina    2\n",
       "st_slope                   2\n",
       "thalassemia                3\n",
       "dtype: int64"
      ]
     },
     "execution_count": 51,
     "metadata": {},
     "output_type": "execute_result"
    }
   ],
   "source": [
    "coun = ['age', 'resting_blood_pressure', 'cholesterol', 'max_heart_rate_achieved', 'st_depression', 'num_major_vessels', 'target']\n",
    "data_cat = data.drop(coun, axis = 1)\n",
    "\n",
    "data_cat.nunique()"
   ]
  },
  {
   "cell_type": "markdown",
   "metadata": {},
   "source": [
    "**У какого категориального признака наблюдается самый сильный дизбаланс классов?**"
   ]
  },
  {
   "cell_type": "code",
   "execution_count": 116,
   "metadata": {},
   "outputs": [
    {
     "data": {
      "text/plain": [
       "sex                        68.316832\n",
       "chest_pain_type            63.696370\n",
       "fasting_blood_sugar        85.148515\n",
       "rest_ecg                   50.165017\n",
       "exercise_induced_angina    67.326733\n",
       "st_slope                   53.135314\n",
       "thalassemia                54.785479\n",
       "dtype: float64"
      ]
     },
     "execution_count": 116,
     "metadata": {},
     "output_type": "execute_result"
    }
   ],
   "source": [
    "cat1 = data_cat.describe(include='all')\n",
    "cat_freq = cat1.iloc[3].astype('int')\n",
    "cat_count = cat1.iloc[0].astype('int')\n",
    "cat_freq/cat_count*100"
   ]
  }
 ],
 "metadata": {
  "kernelspec": {
   "display_name": "Python 3 (ipykernel)",
   "language": "python",
   "name": "python3"
  },
  "language_info": {
   "codemirror_mode": {
    "name": "ipython",
    "version": 3
   },
   "file_extension": ".py",
   "mimetype": "text/x-python",
   "name": "python",
   "nbconvert_exporter": "python",
   "pygments_lexer": "ipython3",
   "version": "3.10.9"
  }
 },
 "nbformat": 4,
 "nbformat_minor": 2
}
