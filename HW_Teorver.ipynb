{
 "cells": [
  {
   "cell_type": "markdown",
   "id": "c3e39f3a",
   "metadata": {},
   "source": [
    "1.) P(-A) = 0.02\n",
    "\n",
    "p(A) = 1-P(-A) = 0.98\n",
    "\n",
    "2.) A - Первая лампа не перегорит,\n",
    "\n",
    "В - Вторая лампа не перегорит.\n",
    "   \n",
    "Обе лампы будут гореть - 0.8x0.8=0.64\n",
    "\n",
    "Одна из ламп перегорит 0.2x0.8=0.16(для второй лампы 0.8x0.2=0.16)\n",
    "\n",
    "Нас устраивают все 3 события, 0,64+0,16+0,16=0.96\n",
    "\n",
    "Или посчитать условие, что обе лампы перегорели 0.2x0.2 = 0.04, значит обратное ему будет 1-0.04 = 0.96\n",
    "\n",
    "3.) А - Знаком с клиентом но не продал,\n",
    "\n",
    "   В - Не знаком с клиентом и не продал,\n",
    "   \n",
    "   0.4x0.2=0.008, 0.6x0.9=0.54\n",
    "   \n",
    "   P(A+B) = 0.08+0.54 = 0.62"
   ]
  },
  {
   "cell_type": "code",
   "execution_count": null,
   "id": "7063678a",
   "metadata": {},
   "outputs": [],
   "source": []
  }
 ],
 "metadata": {
  "kernelspec": {
   "display_name": "Python 3 (ipykernel)",
   "language": "python",
   "name": "python3"
  },
  "language_info": {
   "codemirror_mode": {
    "name": "ipython",
    "version": 3
   },
   "file_extension": ".py",
   "mimetype": "text/x-python",
   "name": "python",
   "nbconvert_exporter": "python",
   "pygments_lexer": "ipython3",
   "version": "3.10.9"
  }
 },
 "nbformat": 4,
 "nbformat_minor": 5
}
